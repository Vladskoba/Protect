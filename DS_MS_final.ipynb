{
 "cells": [
  {
   "cell_type": "markdown",
   "id": "a75f1fd6-79c5-4b7c-b770-6ad873f71adb",
   "metadata": {},
   "source": [
    "# Проект GoProtect"
   ]
  },
  {
   "cell_type": "markdown",
   "id": "8d3d58e1-cf42-49b5-acaf-66116cdd48a4",
   "metadata": {},
   "source": [
    "Цель проекта : Создать решение для стандартизации названий спортивных школ.\\\n",
    "Для достижения целей намечены следующиен задачи:\n",
    "+ Загрузка данных\n",
    "+ Применение предобученной модели на данных\n",
    "+ Формирование тренировочного датасета\n",
    "+ Дообучение модели\n",
    "+ Анализ качества модели после дообучения.\n",
    "\n",
    "Проект выполнил - Скобников В.А (https://t.me/vladskoba)\n"
   ]
  },
  {
   "cell_type": "code",
   "execution_count": 35,
   "id": "4a76371e-49a8-4173-aafb-7b706552d8e9",
   "metadata": {},
   "outputs": [
    {
     "name": "stderr",
     "output_type": "stream",
     "text": [
      "WARNING: Ignoring invalid distribution -otebook (d:\\anaconda\\envs\\envel\\lib\\site-packages)\n",
      "WARNING: Ignoring invalid distribution -otebook (d:\\anaconda\\envs\\envel\\lib\\site-packages)\n"
     ]
    }
   ],
   "source": [
    "!pip install --upgrade jupyter -q"
   ]
  },
  {
   "cell_type": "code",
   "execution_count": 36,
   "id": "b99097b5-cf10-426e-b290-008e244788ac",
   "metadata": {},
   "outputs": [
    {
     "name": "stderr",
     "output_type": "stream",
     "text": [
      "WARNING: Ignoring invalid distribution -otebook (d:\\anaconda\\envs\\envel\\lib\\site-packages)\n",
      "WARNING: Ignoring invalid distribution -otebook (d:\\anaconda\\envs\\envel\\lib\\site-packages)\n"
     ]
    }
   ],
   "source": [
    "!pip install --upgrade ipywidgets -q"
   ]
  },
  {
   "cell_type": "code",
   "execution_count": 37,
   "id": "4912b3c5-c409-468e-8f18-77edc70c5af2",
   "metadata": {},
   "outputs": [
    {
     "name": "stderr",
     "output_type": "stream",
     "text": [
      "WARNING: Ignoring invalid distribution -otebook (d:\\anaconda\\envs\\envel\\lib\\site-packages)\n",
      "WARNING: Ignoring invalid distribution -otebook (d:\\anaconda\\envs\\envel\\lib\\site-packages)\n",
      "WARNING: Ignoring invalid distribution -otebook (d:\\anaconda\\envs\\envel\\lib\\site-packages)\n",
      "WARNING: Ignoring invalid distribution -otebook (d:\\anaconda\\envs\\envel\\lib\\site-packages)\n",
      "WARNING: Ignoring invalid distribution -otebook (d:\\anaconda\\envs\\envel\\lib\\site-packages)\n",
      "WARNING: Ignoring invalid distribution -otebook (d:\\anaconda\\envs\\envel\\lib\\site-packages)\n",
      "WARNING: Ignoring invalid distribution -otebook (d:\\anaconda\\envs\\envel\\lib\\site-packages)\n",
      "WARNING: Ignoring invalid distribution -otebook (d:\\anaconda\\envs\\envel\\lib\\site-packages)\n"
     ]
    }
   ],
   "source": [
    "!pip install transformers -q\n",
    "!pip install torch -q\n",
    "!pip install scikit-learn -q\n",
    "!pip install pandas -q"
   ]
  },
  {
   "cell_type": "code",
   "execution_count": 38,
   "id": "b9e93d6b-80ee-4b0d-bbf1-2bb004bf8e25",
   "metadata": {},
   "outputs": [
    {
     "name": "stderr",
     "output_type": "stream",
     "text": [
      "WARNING: Ignoring invalid distribution -otebook (d:\\anaconda\\envs\\envel\\lib\\site-packages)\n",
      "WARNING: Ignoring invalid distribution -otebook (d:\\anaconda\\envs\\envel\\lib\\site-packages)\n",
      "WARNING: Ignoring invalid distribution -otebook (d:\\anaconda\\envs\\envel\\lib\\site-packages)\n",
      "WARNING: Ignoring invalid distribution -otebook (d:\\anaconda\\envs\\envel\\lib\\site-packages)\n"
     ]
    }
   ],
   "source": [
    "!pip install transformers[torch] -q\n",
    "!pip install accelerate -U -q"
   ]
  },
  {
   "cell_type": "code",
   "execution_count": 75,
   "id": "bc2398b6-f7ec-4fdd-b546-bfb8cea8edf0",
   "metadata": {},
   "outputs": [],
   "source": [
    "import pandas as pd\n",
    "import numpy as np\n",
    "import matplotlib.pyplot as plt\n",
    "import seaborn as sns\n",
    "from transformers import AutoTokenizer, AutoModel,BertTokenizer, BertForSequenceClassification, Trainer, TrainingArguments\n",
    "import torch\n",
    "from sklearn.metrics.pairwise import cosine_similarity\n",
    "from itertools import product\n",
    "from joblib import Parallel, delayed\n",
    "from sklearn.feature_extraction.text import TfidfVectorizer\n",
    "from sklearn.metrics.pairwise import linear_kernel\n",
    "from sklearn.cluster import KMeans\n",
    "from sklearn.decomposition import PCA\n",
    "\n",
    "from sklearn.model_selection import train_test_split\n",
    "\n",
    "from sklearn.metrics import accuracy_score, precision_recall_fscore_support\n",
    "from torch.utils.data import Dataset"
   ]
  },
  {
   "cell_type": "markdown",
   "id": "3080fca5-b635-4fb0-9471-59826cc07f32",
   "metadata": {},
   "source": [
    "## Загрузка данных"
   ]
  },
  {
   "cell_type": "markdown",
   "id": "44a368f9-d0d4-46b7-b4fb-bbe20e4a3df8",
   "metadata": {},
   "source": [
    "Загрузим данные и посмотрим, что ои из себя представляют."
   ]
  },
  {
   "cell_type": "code",
   "execution_count": 40,
   "id": "9f50d92c-6926-48f6-afd3-f9dee5ad7e72",
   "metadata": {},
   "outputs": [],
   "source": [
    "some_names_df = pd.read_csv(\"D:\\DS\\data_02_match_school\\data_02_match_school\\Примерное написание.csv\")  \n",
    "true_names_df = pd.read_csv(\"D:\\DS\\data_02_match_school\\data_02_match_school\\Школы.csv\")  "
   ]
  },
  {
   "cell_type": "code",
   "execution_count": 41,
   "id": "f69f87df-6a02-41c7-8d1a-120e01fc5f81",
   "metadata": {},
   "outputs": [
    {
     "data": {
      "text/html": [
       "<div>\n",
       "<style scoped>\n",
       "    .dataframe tbody tr th:only-of-type {\n",
       "        vertical-align: middle;\n",
       "    }\n",
       "\n",
       "    .dataframe tbody tr th {\n",
       "        vertical-align: top;\n",
       "    }\n",
       "\n",
       "    .dataframe thead th {\n",
       "        text-align: right;\n",
       "    }\n",
       "</style>\n",
       "<table border=\"1\" class=\"dataframe\">\n",
       "  <thead>\n",
       "    <tr style=\"text-align: right;\">\n",
       "      <th></th>\n",
       "      <th>school_id</th>\n",
       "      <th>name</th>\n",
       "    </tr>\n",
       "  </thead>\n",
       "  <tbody>\n",
       "    <tr>\n",
       "      <th>0</th>\n",
       "      <td>1836</td>\n",
       "      <td>ООО \"Триумф\"</td>\n",
       "    </tr>\n",
       "    <tr>\n",
       "      <th>1</th>\n",
       "      <td>1836</td>\n",
       "      <td>Москва, СК \"Триумф\"</td>\n",
       "    </tr>\n",
       "    <tr>\n",
       "      <th>2</th>\n",
       "      <td>610</td>\n",
       "      <td>СШОР \"Надежда Губернии</td>\n",
       "    </tr>\n",
       "    <tr>\n",
       "      <th>3</th>\n",
       "      <td>610</td>\n",
       "      <td>Саратовская область, ГБУСО \"СШОР \"Надежда Губе...</td>\n",
       "    </tr>\n",
       "    <tr>\n",
       "      <th>4</th>\n",
       "      <td>609</td>\n",
       "      <td>\"СШ \"Гвоздика\"</td>\n",
       "    </tr>\n",
       "  </tbody>\n",
       "</table>\n",
       "</div>"
      ],
      "text/plain": [
       "   school_id                                               name\n",
       "0       1836                                       ООО \"Триумф\"\n",
       "1       1836                                Москва, СК \"Триумф\"\n",
       "2        610                             СШОР \"Надежда Губернии\n",
       "3        610  Саратовская область, ГБУСО \"СШОР \"Надежда Губе...\n",
       "4        609                                     \"СШ \"Гвоздика\""
      ]
     },
     "execution_count": 41,
     "metadata": {},
     "output_type": "execute_result"
    }
   ],
   "source": [
    "some_names_df.head()"
   ]
  },
  {
   "cell_type": "code",
   "execution_count": 42,
   "id": "d6790b10-a8e5-41a3-9030-b87d0d2a86b9",
   "metadata": {},
   "outputs": [
    {
     "data": {
      "text/html": [
       "<div>\n",
       "<style scoped>\n",
       "    .dataframe tbody tr th:only-of-type {\n",
       "        vertical-align: middle;\n",
       "    }\n",
       "\n",
       "    .dataframe tbody tr th {\n",
       "        vertical-align: top;\n",
       "    }\n",
       "\n",
       "    .dataframe thead th {\n",
       "        text-align: right;\n",
       "    }\n",
       "</style>\n",
       "<table border=\"1\" class=\"dataframe\">\n",
       "  <thead>\n",
       "    <tr style=\"text-align: right;\">\n",
       "      <th></th>\n",
       "      <th>school_id</th>\n",
       "      <th>name</th>\n",
       "      <th>region</th>\n",
       "    </tr>\n",
       "  </thead>\n",
       "  <tbody>\n",
       "    <tr>\n",
       "      <th>0</th>\n",
       "      <td>1</td>\n",
       "      <td>Авангард</td>\n",
       "      <td>Московская область</td>\n",
       "    </tr>\n",
       "    <tr>\n",
       "      <th>1</th>\n",
       "      <td>2</td>\n",
       "      <td>Авангард</td>\n",
       "      <td>Ямало-Ненецкий АО</td>\n",
       "    </tr>\n",
       "    <tr>\n",
       "      <th>2</th>\n",
       "      <td>3</td>\n",
       "      <td>Авиатор</td>\n",
       "      <td>Республика Татарстан</td>\n",
       "    </tr>\n",
       "    <tr>\n",
       "      <th>3</th>\n",
       "      <td>4</td>\n",
       "      <td>Аврора</td>\n",
       "      <td>Санкт-Петербург</td>\n",
       "    </tr>\n",
       "    <tr>\n",
       "      <th>4</th>\n",
       "      <td>5</td>\n",
       "      <td>Ice Dream / Айс Дрим</td>\n",
       "      <td>Санкт-Петербург</td>\n",
       "    </tr>\n",
       "  </tbody>\n",
       "</table>\n",
       "</div>"
      ],
      "text/plain": [
       "   school_id                  name                region\n",
       "0          1              Авангард    Московская область\n",
       "1          2              Авангард     Ямало-Ненецкий АО\n",
       "2          3               Авиатор  Республика Татарстан\n",
       "3          4                Аврора       Санкт-Петербург\n",
       "4          5  Ice Dream / Айс Дрим       Санкт-Петербург"
      ]
     },
     "execution_count": 42,
     "metadata": {},
     "output_type": "execute_result"
    }
   ],
   "source": [
    "true_names_df.head()"
   ]
  },
  {
   "cell_type": "code",
   "execution_count": 68,
   "id": "e07e8b06-5f74-47b5-854f-3391e4dd9285",
   "metadata": {},
   "outputs": [
    {
     "name": "stdout",
     "output_type": "stream",
     "text": [
      "<class 'pandas.core.frame.DataFrame'>\n",
      "RangeIndex: 895 entries, 0 to 894\n",
      "Data columns (total 3 columns):\n",
      " #   Column      Non-Null Count  Dtype \n",
      "---  ------      --------------  ----- \n",
      " 0   school_id   895 non-null    int64 \n",
      " 1   name        895 non-null    object\n",
      " 2   best_match  895 non-null    object\n",
      "dtypes: int64(1), object(2)\n",
      "memory usage: 21.1+ KB\n"
     ]
    }
   ],
   "source": [
    "some_names_df.info()"
   ]
  },
  {
   "cell_type": "code",
   "execution_count": 69,
   "id": "c411c8bb-1054-4d7c-85a9-87f7522edba2",
   "metadata": {},
   "outputs": [
    {
     "name": "stdout",
     "output_type": "stream",
     "text": [
      "<class 'pandas.core.frame.DataFrame'>\n",
      "RangeIndex: 306 entries, 0 to 305\n",
      "Data columns (total 3 columns):\n",
      " #   Column     Non-Null Count  Dtype \n",
      "---  ------     --------------  ----- \n",
      " 0   school_id  306 non-null    int64 \n",
      " 1   name       306 non-null    object\n",
      " 2   region     306 non-null    object\n",
      "dtypes: int64(1), object(2)\n",
      "memory usage: 7.3+ KB\n"
     ]
    }
   ],
   "source": [
    "true_names_df.info()"
   ]
  },
  {
   "cell_type": "markdown",
   "id": "ace0099c-aab6-4243-983d-889c4f99d223",
   "metadata": {},
   "source": [
    "Есть некоторый набор, содержащий в себе множество различный наименований для конкретного заведения. И есть список с эталонными значениями. "
   ]
  },
  {
   "cell_type": "markdown",
   "id": "d590b726-421f-42c1-8050-75eac6da1eb3",
   "metadata": {},
   "source": [
    "## Загрузка модели и токенайзера от Hugging Face"
   ]
  },
  {
   "cell_type": "markdown",
   "id": "c2eb0b2c-837c-4df1-b6d8-ece499cde3e4",
   "metadata": {},
   "source": [
    "Посмотрим, как модель себя проявит без дообучения :"
   ]
  },
  {
   "cell_type": "markdown",
   "id": "1766a6eb-e4b7-4fb2-aa46-2e700aae7562",
   "metadata": {},
   "source": [
    "### Загрузка модели"
   ]
  },
  {
   "cell_type": "code",
   "execution_count": 43,
   "id": "0161a192-4f9e-4f6a-b3b1-969148ef692f",
   "metadata": {},
   "outputs": [],
   "source": [
    "model_name = \"sentence-transformers/all-MiniLM-L6-v2\"\n",
    "tokenizer = AutoTokenizer.from_pretrained(model_name)\n",
    "model = AutoModel.from_pretrained(model_name)"
   ]
  },
  {
   "cell_type": "markdown",
   "id": "c5d6fc85-d1db-457c-9f57-c7b6dac69614",
   "metadata": {},
   "source": [
    "### Получения эмбеддингов"
   ]
  },
  {
   "cell_type": "code",
   "execution_count": 44,
   "id": "6322550e-a114-49d3-b911-5feedd568124",
   "metadata": {},
   "outputs": [],
   "source": [
    "def get_embeddings(texts):\n",
    "    inputs = tokenizer(texts, padding=True, truncation=True, return_tensors=\"pt\")\n",
    "    with torch.no_grad():\n",
    "        embeddings = model(**inputs).last_hidden_state.mean(dim=1)\n",
    "    return embeddings"
   ]
  },
  {
   "cell_type": "code",
   "execution_count": 45,
   "id": "d0b98efd-b64e-4781-a480-8c62c07fb157",
   "metadata": {},
   "outputs": [],
   "source": [
    "some_names_embeddings_1 = get_embeddings(some_names_df['name'].tolist())\n",
    "true_names_embeddings_1 = get_embeddings(true_names_df['name'].tolist())"
   ]
  },
  {
   "cell_type": "markdown",
   "id": "c97dce74-76e0-4a64-8773-2f9150c634eb",
   "metadata": {},
   "source": [
    "### Оценка косинусного расстояния"
   ]
  },
  {
   "cell_type": "code",
   "execution_count": 46,
   "id": "a6572297-8b99-44d6-92cb-952c0ee58517",
   "metadata": {},
   "outputs": [],
   "source": [
    "similarity_matrix = cosine_similarity(some_names_embeddings_1, true_names_embeddings_1)"
   ]
  },
  {
   "cell_type": "markdown",
   "id": "b0c9f3bc-3b4b-4c88-8da3-8d29071936c8",
   "metadata": {},
   "source": [
    "### Установление максимально близких связей"
   ]
  },
  {
   "cell_type": "code",
   "execution_count": 71,
   "id": "5debe884-77f6-43c6-a077-b148c7ad0457",
   "metadata": {},
   "outputs": [
    {
     "data": {
      "text/html": [
       "<div>\n",
       "<style scoped>\n",
       "    .dataframe tbody tr th:only-of-type {\n",
       "        vertical-align: middle;\n",
       "    }\n",
       "\n",
       "    .dataframe tbody tr th {\n",
       "        vertical-align: top;\n",
       "    }\n",
       "\n",
       "    .dataframe thead th {\n",
       "        text-align: right;\n",
       "    }\n",
       "</style>\n",
       "<table border=\"1\" class=\"dataframe\">\n",
       "  <thead>\n",
       "    <tr style=\"text-align: right;\">\n",
       "      <th></th>\n",
       "      <th>name</th>\n",
       "      <th>best_match</th>\n",
       "    </tr>\n",
       "  </thead>\n",
       "  <tbody>\n",
       "    <tr>\n",
       "      <th>0</th>\n",
       "      <td>ООО \"Триумф\"</td>\n",
       "      <td>ООО \"Триумф\"</td>\n",
       "    </tr>\n",
       "    <tr>\n",
       "      <th>1</th>\n",
       "      <td>Москва, СК \"Триумф\"</td>\n",
       "      <td>ООО \"Триумф\"</td>\n",
       "    </tr>\n",
       "    <tr>\n",
       "      <th>2</th>\n",
       "      <td>СШОР \"Надежда Губернии</td>\n",
       "      <td>СШОР \"Надежда Губернии</td>\n",
       "    </tr>\n",
       "    <tr>\n",
       "      <th>3</th>\n",
       "      <td>Саратовская область, ГБУСО \"СШОР \"Надежда Губе...</td>\n",
       "      <td>СШОР \"Надежда Губернии</td>\n",
       "    </tr>\n",
       "    <tr>\n",
       "      <th>4</th>\n",
       "      <td>\"СШ \"Гвоздика\"</td>\n",
       "      <td>\"СШ \"Гвоздика\"</td>\n",
       "    </tr>\n",
       "    <tr>\n",
       "      <th>...</th>\n",
       "      <td>...</td>\n",
       "      <td>...</td>\n",
       "    </tr>\n",
       "    <tr>\n",
       "      <th>890</th>\n",
       "      <td>Республика Татарстан, СШОР ФСО Авиатор</td>\n",
       "      <td>Центр развития спорта</td>\n",
       "    </tr>\n",
       "    <tr>\n",
       "      <th>891</th>\n",
       "      <td>СШОР ФСО Авиатор, Республика Татарстан</td>\n",
       "      <td>Фаворит</td>\n",
       "    </tr>\n",
       "    <tr>\n",
       "      <th>892</th>\n",
       "      <td>Республика Татарстан, МБУ ДО СШОР «ФСО \"Авиатор\"»</td>\n",
       "      <td>Фаворит</td>\n",
       "    </tr>\n",
       "    <tr>\n",
       "      <th>893</th>\n",
       "      <td>ЯНАО, СШ \"Авангард\"</td>\n",
       "      <td>Авангард</td>\n",
       "    </tr>\n",
       "    <tr>\n",
       "      <th>894</th>\n",
       "      <td>Московская область, СШ \"Авангард\"</td>\n",
       "      <td>Авангард</td>\n",
       "    </tr>\n",
       "  </tbody>\n",
       "</table>\n",
       "<p>895 rows × 2 columns</p>\n",
       "</div>"
      ],
      "text/plain": [
       "                                                  name              best_match\n",
       "0                                         ООО \"Триумф\"            ООО \"Триумф\"\n",
       "1                                  Москва, СК \"Триумф\"            ООО \"Триумф\"\n",
       "2                               СШОР \"Надежда Губернии  СШОР \"Надежда Губернии\n",
       "3    Саратовская область, ГБУСО \"СШОР \"Надежда Губе...  СШОР \"Надежда Губернии\n",
       "4                                       \"СШ \"Гвоздика\"          \"СШ \"Гвоздика\"\n",
       "..                                                 ...                     ...\n",
       "890             Республика Татарстан, СШОР ФСО Авиатор   Центр развития спорта\n",
       "891             СШОР ФСО Авиатор, Республика Татарстан                 Фаворит\n",
       "892  Республика Татарстан, МБУ ДО СШОР «ФСО \"Авиатор\"»                 Фаворит\n",
       "893                                ЯНАО, СШ \"Авангард\"                Авангард\n",
       "894                  Московская область, СШ \"Авангард\"                Авангард\n",
       "\n",
       "[895 rows x 2 columns]"
      ]
     },
     "execution_count": 71,
     "metadata": {},
     "output_type": "execute_result"
    }
   ],
   "source": [
    "matches = similarity_matrix.argmax(axis=1)\n",
    "some_names_df['best_match'] = [true_names_df['name'].iloc[i] for i in matches]\n",
    "\n",
    "some_names_df[['name', 'best_match']]"
   ]
  },
  {
   "cell_type": "markdown",
   "id": "d8f30f35-ef0c-4659-be9e-8b320dec900c",
   "metadata": {},
   "source": [
    "Можно заметить, что такой подход позволяет установить связи между \"вариативным\" и \"эталонным\". Другой вопрос, что адекватно оценить такую модель метриками сложно, ввиду отсутвия меток. Для более серьёзного решения создадим тренировочный датасет."
   ]
  },
  {
   "cell_type": "markdown",
   "id": "40e17d89-1861-4362-b2a2-fb9b4b19bdd6",
   "metadata": {},
   "source": [
    "## Создание  тренировочного датасета"
   ]
  },
  {
   "cell_type": "markdown",
   "id": "c3352e88-b133-42cd-a437-ae5e40ce1188",
   "metadata": {},
   "source": [
    "Далее создадим тренировочный датасет с помощью метода TF-IDF  для предварительного отбора наиболее вероятных соответствий."
   ]
  },
  {
   "cell_type": "markdown",
   "id": "894819c1-d5c7-4751-9f00-c40e0b221f6f",
   "metadata": {},
   "source": [
    "### Использование TF-IDF для предварительного отбора"
   ]
  },
  {
   "cell_type": "code",
   "execution_count": 48,
   "id": "5b2162aa-16ed-4281-9932-702143d2f240",
   "metadata": {},
   "outputs": [],
   "source": [
    "tfidf_vectorizer = TfidfVectorizer().fit(pd.concat([some_names_df['name'], true_names_df['name']]))\n",
    "some_names_tfidf = tfidf_vectorizer.transform(some_names_df['name'])\n",
    "true_names_tfidf = tfidf_vectorizer.transform(true_names_df['name'])"
   ]
  },
  {
   "cell_type": "code",
   "execution_count": 49,
   "id": "dce0cb9c-62fc-4c49-9c6c-a266a85a4c50",
   "metadata": {},
   "outputs": [],
   "source": [
    "cosine_similarities = linear_kernel(some_names_tfidf, true_names_tfidf)"
   ]
  },
  {
   "cell_type": "code",
   "execution_count": 50,
   "id": "b10f3df1-4358-4171-ac28-bdff85d2dc06",
   "metadata": {},
   "outputs": [],
   "source": [
    "top_n = 5\n",
    "top_n_indices = np.argsort(-cosine_similarities, axis=1)[:, :top_n]\n",
    "\n",
    "candidate_pairs = []\n",
    "for inst_idx, ref_indices in enumerate(top_n_indices):\n",
    "    inst_id = some_names_df.iloc[inst_idx]['school_id']\n",
    "    inst_name = some_names_df.iloc[inst_idx]['name']\n",
    "    for ref_idx in ref_indices:\n",
    "        ref_id = true_names_df.iloc[ref_idx]['school_id']\n",
    "        ref_name = true_names_df.iloc[ref_idx]['name']\n",
    "        candidate_pairs.append({\n",
    "            'some_names_id': inst_id,\n",
    "            'true_names_id': ref_id,\n",
    "            'name_some': inst_name,\n",
    "            'name_true': ref_name\n",
    "        })\n",
    "\n",
    "candidate_pairs_df = pd.DataFrame(candidate_pairs)"
   ]
  },
  {
   "cell_type": "markdown",
   "id": "240e9cb9-43b8-4a6d-82cd-1daed68f88f3",
   "metadata": {},
   "source": [
    "### Создание положительных и отрицательных примеров из кандидатов"
   ]
  },
  {
   "cell_type": "code",
   "execution_count": 51,
   "id": "3a61e90c-01a9-4006-9aa2-7bc1d5427124",
   "metadata": {},
   "outputs": [],
   "source": [
    "# Создание меток (1 если идентификаторы совпадают, 0 в противном случае)\n",
    "candidate_pairs_df['label'] = (candidate_pairs_df['some_names_id'] == candidate_pairs_df['true_names_id']).astype(int)"
   ]
  },
  {
   "cell_type": "code",
   "execution_count": 52,
   "id": "5ecfdbe9-424a-4eb4-b1a9-8b863daadb48",
   "metadata": {},
   "outputs": [],
   "source": [
    "# Выборка отрицательных примеров\n",
    "positive_pairs = candidate_pairs_df[candidate_pairs_df['label'] == 1]\n",
    "negative_pairs = candidate_pairs_df[candidate_pairs_df['label'] == 0].sample(n=len(positive_pairs))"
   ]
  },
  {
   "cell_type": "code",
   "execution_count": 53,
   "id": "48892ead-fc1a-4c5a-831e-076b92db3053",
   "metadata": {},
   "outputs": [],
   "source": [
    "# Объединение положительных и отрицательных примеров\n",
    "train_dataset = pd.concat([positive_pairs, negative_pairs])"
   ]
  },
  {
   "cell_type": "markdown",
   "id": "dd44983c-5274-407c-b678-e23cd720f119",
   "metadata": {},
   "source": [
    "### Создание эмбеддингов и вычисление косинусного сходства"
   ]
  },
  {
   "cell_type": "code",
   "execution_count": 54,
   "id": "26e1f1bb-7fbb-4179-bbae-5224f535edc2",
   "metadata": {},
   "outputs": [],
   "source": [
    "def get_embeddings(texts):\n",
    "    inputs = tokenizer(texts, padding=True, truncation=True, return_tensors=\"pt\")\n",
    "    with torch.no_grad():\n",
    "        embeddings = model(**inputs).last_hidden_state.mean(dim=1)\n",
    "    return embeddings"
   ]
  },
  {
   "cell_type": "code",
   "execution_count": 55,
   "id": "529d7eb7-1e3d-49a3-aa24-554eca07824d",
   "metadata": {},
   "outputs": [],
   "source": [
    "some_embeddings = get_embeddings(train_dataset['name_some'].tolist())\n",
    "true_embeddings = get_embeddings(train_dataset['name_true'].tolist())"
   ]
  },
  {
   "cell_type": "code",
   "execution_count": 56,
   "id": "9aa6c9c9-f0fb-48e5-83cc-bff757749349",
   "metadata": {},
   "outputs": [],
   "source": [
    "# Вычисление косинусного сходства\n",
    "similarities = cosine_similarity(some_embeddings, true_embeddings)\n",
    "train_dataset['similarity'] = similarities.diagonal()"
   ]
  },
  {
   "cell_type": "code",
   "execution_count": 57,
   "id": "020047fc-5f56-41f0-b6bd-0b50cd7bedd3",
   "metadata": {},
   "outputs": [
    {
     "data": {
      "text/html": [
       "<div>\n",
       "<style scoped>\n",
       "    .dataframe tbody tr th:only-of-type {\n",
       "        vertical-align: middle;\n",
       "    }\n",
       "\n",
       "    .dataframe tbody tr th {\n",
       "        vertical-align: top;\n",
       "    }\n",
       "\n",
       "    .dataframe thead th {\n",
       "        text-align: right;\n",
       "    }\n",
       "</style>\n",
       "<table border=\"1\" class=\"dataframe\">\n",
       "  <thead>\n",
       "    <tr style=\"text-align: right;\">\n",
       "      <th></th>\n",
       "      <th>some_names_id</th>\n",
       "      <th>true_names_id</th>\n",
       "      <th>name_some</th>\n",
       "      <th>name_true</th>\n",
       "      <th>label</th>\n",
       "      <th>similarity</th>\n",
       "    </tr>\n",
       "  </thead>\n",
       "  <tbody>\n",
       "    <tr>\n",
       "      <th>0</th>\n",
       "      <td>1836</td>\n",
       "      <td>1836</td>\n",
       "      <td>ООО \"Триумф\"</td>\n",
       "      <td>ООО \"Триумф\"</td>\n",
       "      <td>1</td>\n",
       "      <td>0.998387</td>\n",
       "    </tr>\n",
       "    <tr>\n",
       "      <th>6</th>\n",
       "      <td>1836</td>\n",
       "      <td>1836</td>\n",
       "      <td>Москва, СК \"Триумф\"</td>\n",
       "      <td>ООО \"Триумф\"</td>\n",
       "      <td>1</td>\n",
       "      <td>0.951282</td>\n",
       "    </tr>\n",
       "    <tr>\n",
       "      <th>10</th>\n",
       "      <td>610</td>\n",
       "      <td>610</td>\n",
       "      <td>СШОР \"Надежда Губернии</td>\n",
       "      <td>СШОР \"Надежда Губернии</td>\n",
       "      <td>1</td>\n",
       "      <td>0.997189</td>\n",
       "    </tr>\n",
       "    <tr>\n",
       "      <th>15</th>\n",
       "      <td>610</td>\n",
       "      <td>610</td>\n",
       "      <td>Саратовская область, ГБУСО \"СШОР \"Надежда Губе...</td>\n",
       "      <td>СШОР \"Надежда Губернии</td>\n",
       "      <td>1</td>\n",
       "      <td>0.848917</td>\n",
       "    </tr>\n",
       "    <tr>\n",
       "      <th>20</th>\n",
       "      <td>609</td>\n",
       "      <td>609</td>\n",
       "      <td>\"СШ \"Гвоздика\"</td>\n",
       "      <td>\"СШ \"Гвоздика\"</td>\n",
       "      <td>1</td>\n",
       "      <td>0.998699</td>\n",
       "    </tr>\n",
       "  </tbody>\n",
       "</table>\n",
       "</div>"
      ],
      "text/plain": [
       "    some_names_id  true_names_id  \\\n",
       "0            1836           1836   \n",
       "6            1836           1836   \n",
       "10            610            610   \n",
       "15            610            610   \n",
       "20            609            609   \n",
       "\n",
       "                                            name_some               name_true  \\\n",
       "0                                        ООО \"Триумф\"            ООО \"Триумф\"   \n",
       "6                                 Москва, СК \"Триумф\"            ООО \"Триумф\"   \n",
       "10                             СШОР \"Надежда Губернии  СШОР \"Надежда Губернии   \n",
       "15  Саратовская область, ГБУСО \"СШОР \"Надежда Губе...  СШОР \"Надежда Губернии   \n",
       "20                                     \"СШ \"Гвоздика\"          \"СШ \"Гвоздика\"   \n",
       "\n",
       "    label  similarity  \n",
       "0       1    0.998387  \n",
       "6       1    0.951282  \n",
       "10      1    0.997189  \n",
       "15      1    0.848917  \n",
       "20      1    0.998699  "
      ]
     },
     "execution_count": 57,
     "metadata": {},
     "output_type": "execute_result"
    }
   ],
   "source": [
    "train_dataset.head()"
   ]
  },
  {
   "cell_type": "markdown",
   "id": "1484fe1d-9067-4aa1-9e82-8923c5c9b7b0",
   "metadata": {},
   "source": [
    "Этот подход позволяют сократить пространство поиска и уменьшить количество пар для обработки, что значительно снижает нагрузку на память и вычислительные ресурсы, чем если бы мы пребирали все возможные соответствия."
   ]
  },
  {
   "cell_type": "markdown",
   "id": "6523f722-f04e-48fb-83a4-fc5f7f45abd5",
   "metadata": {},
   "source": [
    "## Дообучение модели"
   ]
  },
  {
   "cell_type": "markdown",
   "id": "741e222b-5778-4f1d-8858-96dcfcbe120a",
   "metadata": {},
   "source": [
    "Для этого мы будем использовать метод обучения, известный как fine-tuning, на задаче бинарной классификации. Мы будем использовать модель sentence-transformers и библиотеку transformers для этой цели."
   ]
  },
  {
   "cell_type": "markdown",
   "id": "24b1d055-1e67-4c85-afab-4e6ec88f534e",
   "metadata": {},
   "source": [
    "### Подготовка датасета и разделение на выборки"
   ]
  },
  {
   "cell_type": "code",
   "execution_count": 58,
   "id": "4a22676b-ebae-49d1-b17e-8d1d0835d8e4",
   "metadata": {},
   "outputs": [],
   "source": [
    "train_df, val_df = train_test_split(train_dataset, test_size=0.1, random_state=42)\n"
   ]
  },
  {
   "cell_type": "code",
   "execution_count": 59,
   "id": "ff91aa8c-19f2-4711-9e8b-31df721627dc",
   "metadata": {},
   "outputs": [],
   "source": [
    "def prepare_data(df):\n",
    "    return list(zip(df['name_some'].tolist(), df['name_true'].tolist(), df['label'].tolist()))\n",
    "\n",
    "train_data = prepare_data(train_df)\n",
    "val_data = prepare_data(val_df)"
   ]
  },
  {
   "cell_type": "markdown",
   "id": "461acbf9-ec50-49d9-b88d-be6b96091f7a",
   "metadata": {},
   "source": [
    "### Создание модели и токенайзера"
   ]
  },
  {
   "cell_type": "markdown",
   "id": "7f15f51a-c319-41c0-90e1-6000b619c676",
   "metadata": {},
   "source": [
    "Не будем подгружать в модель столбцы с id школ. Это ухудшит метрику, но сделает исследование честнее."
   ]
  },
  {
   "cell_type": "code",
   "execution_count": 80,
   "id": "682fcbae-8b8d-4cc5-a58f-9ea41483855b",
   "metadata": {},
   "outputs": [],
   "source": [
    "class InstitutionDataset(Dataset):\n",
    "    def __init__(self, df, tokenizer, max_length):\n",
    "        self.labels = df['label'].values\n",
    "        self.texts = df[['name_some', 'name_true']].values\n",
    "        self.tokenizer = tokenizer\n",
    "        self.max_length = max_length\n",
    "\n",
    "    def __len__(self):\n",
    "        return len(self.texts)\n",
    "\n",
    "    def __getitem__(self, idx):\n",
    "        text1, text2 = self.texts[idx]\n",
    "        inputs = self.tokenizer(text1, text2, padding='max_length', truncation=True, max_length=self.max_length, return_tensors='pt')\n",
    "        inputs = {key: val.squeeze(0) for key, val in inputs.items()}\n",
    "        inputs['labels'] = torch.tensor(self.labels[idx], dtype=torch.long)\n",
    "        return inputs\n"
   ]
  },
  {
   "cell_type": "code",
   "execution_count": 81,
   "id": "2325aeb5-92b9-4b7f-9fb9-c55c942ac25e",
   "metadata": {},
   "outputs": [
    {
     "name": "stderr",
     "output_type": "stream",
     "text": [
      "Some weights of BertForSequenceClassification were not initialized from the model checkpoint at sentence-transformers/paraphrase-MiniLM-L6-v2 and are newly initialized: ['classifier.bias', 'classifier.weight']\n",
      "You should probably TRAIN this model on a down-stream task to be able to use it for predictions and inference.\n"
     ]
    }
   ],
   "source": [
    "model_name = \"sentence-transformers/paraphrase-MiniLM-L6-v2\"\n",
    "tokenizer = BertTokenizer.from_pretrained(model_name)\n",
    "model = BertForSequenceClassification.from_pretrained(model_name, num_labels=2)"
   ]
  },
  {
   "cell_type": "code",
   "execution_count": 82,
   "id": "5e2cafeb-c320-46e4-b4cb-81a0e782d59a",
   "metadata": {},
   "outputs": [],
   "source": [
    "train_dataset = PairDataset(train_data, tokenizer)\n",
    "val_dataset = PairDataset(val_data, tokenizer)"
   ]
  },
  {
   "cell_type": "markdown",
   "id": "c45c077e-640b-4732-8918-99ed208bf95a",
   "metadata": {},
   "source": [
    "### Определение функции вычисления метрик"
   ]
  },
  {
   "cell_type": "code",
   "execution_count": 83,
   "id": "5c7d96e2-9580-4571-b4b0-6ecc1e9cc6e3",
   "metadata": {},
   "outputs": [],
   "source": [
    "def compute_metrics(p):\n",
    "    preds = np.argmax(p.predictions, axis=1)\n",
    "    precision, recall, f1, _ = precision_recall_fscore_support(p.label_ids, preds, average='binary')\n",
    "    acc = accuracy_score(p.label_ids, preds)\n",
    "    return {\n",
    "        'accuracy': acc,\n",
    "        'precision': precision,\n",
    "        'recall': recall,\n",
    "        'f1': f1,\n",
    "    }"
   ]
  },
  {
   "cell_type": "markdown",
   "id": "87f65267-0951-4cd9-a0a1-984ea96eb190",
   "metadata": {},
   "source": [
    "### Настройка тренировочного процесса"
   ]
  },
  {
   "cell_type": "code",
   "execution_count": 84,
   "id": "34bf579c-2e59-4740-8a0b-b20ed3fcec49",
   "metadata": {},
   "outputs": [
    {
     "name": "stderr",
     "output_type": "stream",
     "text": [
      "D:\\Anaconda\\envs\\envel\\lib\\site-packages\\transformers\\training_args.py:1494: FutureWarning: `evaluation_strategy` is deprecated and will be removed in version 4.46 of 🤗 Transformers. Use `eval_strategy` instead\n",
      "  warnings.warn(\n"
     ]
    }
   ],
   "source": [
    "training_args = TrainingArguments(\n",
    "    output_dir='./results',\n",
    "    num_train_epochs=3,\n",
    "    per_device_train_batch_size=16,\n",
    "    per_device_eval_batch_size=64,\n",
    "    warmup_steps=500,\n",
    "    weight_decay=0.01,\n",
    "    logging_dir='./logs',\n",
    "    logging_steps=10,\n",
    "    evaluation_strategy=\"steps\"\n",
    ")"
   ]
  },
  {
   "cell_type": "markdown",
   "id": "78ff2079-cdfe-4d85-89db-ace1314b34ab",
   "metadata": {},
   "source": [
    "### Обучение модели"
   ]
  },
  {
   "cell_type": "code",
   "execution_count": 85,
   "id": "6c793560-5041-4421-99af-d7fdbde1e783",
   "metadata": {},
   "outputs": [
    {
     "data": {
      "text/html": [
       "\n",
       "    <div>\n",
       "      \n",
       "      <progress value='264' max='264' style='width:300px; height:20px; vertical-align: middle;'></progress>\n",
       "      [264/264 03:33, Epoch 3/3]\n",
       "    </div>\n",
       "    <table border=\"1\" class=\"dataframe\">\n",
       "  <thead>\n",
       " <tr style=\"text-align: left;\">\n",
       "      <th>Step</th>\n",
       "      <th>Training Loss</th>\n",
       "      <th>Validation Loss</th>\n",
       "      <th>Accuracy</th>\n",
       "      <th>Precision</th>\n",
       "      <th>Recall</th>\n",
       "      <th>F1</th>\n",
       "    </tr>\n",
       "  </thead>\n",
       "  <tbody>\n",
       "    <tr>\n",
       "      <td>10</td>\n",
       "      <td>0.694400</td>\n",
       "      <td>0.690441</td>\n",
       "      <td>0.538462</td>\n",
       "      <td>0.538462</td>\n",
       "      <td>1.000000</td>\n",
       "      <td>0.700000</td>\n",
       "    </tr>\n",
       "    <tr>\n",
       "      <td>20</td>\n",
       "      <td>0.696500</td>\n",
       "      <td>0.690426</td>\n",
       "      <td>0.538462</td>\n",
       "      <td>0.538462</td>\n",
       "      <td>1.000000</td>\n",
       "      <td>0.700000</td>\n",
       "    </tr>\n",
       "    <tr>\n",
       "      <td>30</td>\n",
       "      <td>0.690300</td>\n",
       "      <td>0.690240</td>\n",
       "      <td>0.538462</td>\n",
       "      <td>0.538462</td>\n",
       "      <td>1.000000</td>\n",
       "      <td>0.700000</td>\n",
       "    </tr>\n",
       "    <tr>\n",
       "      <td>40</td>\n",
       "      <td>0.693300</td>\n",
       "      <td>0.689989</td>\n",
       "      <td>0.538462</td>\n",
       "      <td>0.538462</td>\n",
       "      <td>1.000000</td>\n",
       "      <td>0.700000</td>\n",
       "    </tr>\n",
       "    <tr>\n",
       "      <td>50</td>\n",
       "      <td>0.695200</td>\n",
       "      <td>0.689799</td>\n",
       "      <td>0.538462</td>\n",
       "      <td>0.538462</td>\n",
       "      <td>1.000000</td>\n",
       "      <td>0.700000</td>\n",
       "    </tr>\n",
       "    <tr>\n",
       "      <td>60</td>\n",
       "      <td>0.691600</td>\n",
       "      <td>0.689618</td>\n",
       "      <td>0.538462</td>\n",
       "      <td>0.538462</td>\n",
       "      <td>1.000000</td>\n",
       "      <td>0.700000</td>\n",
       "    </tr>\n",
       "    <tr>\n",
       "      <td>70</td>\n",
       "      <td>0.692500</td>\n",
       "      <td>0.689602</td>\n",
       "      <td>0.628205</td>\n",
       "      <td>0.614035</td>\n",
       "      <td>0.833333</td>\n",
       "      <td>0.707071</td>\n",
       "    </tr>\n",
       "    <tr>\n",
       "      <td>80</td>\n",
       "      <td>0.689800</td>\n",
       "      <td>0.688993</td>\n",
       "      <td>0.538462</td>\n",
       "      <td>0.615385</td>\n",
       "      <td>0.380952</td>\n",
       "      <td>0.470588</td>\n",
       "    </tr>\n",
       "    <tr>\n",
       "      <td>90</td>\n",
       "      <td>0.689400</td>\n",
       "      <td>0.685582</td>\n",
       "      <td>0.621795</td>\n",
       "      <td>0.605042</td>\n",
       "      <td>0.857143</td>\n",
       "      <td>0.709360</td>\n",
       "    </tr>\n",
       "    <tr>\n",
       "      <td>100</td>\n",
       "      <td>0.684300</td>\n",
       "      <td>0.681813</td>\n",
       "      <td>0.634615</td>\n",
       "      <td>0.628571</td>\n",
       "      <td>0.785714</td>\n",
       "      <td>0.698413</td>\n",
       "    </tr>\n",
       "    <tr>\n",
       "      <td>110</td>\n",
       "      <td>0.679600</td>\n",
       "      <td>0.671825</td>\n",
       "      <td>0.634615</td>\n",
       "      <td>0.608000</td>\n",
       "      <td>0.904762</td>\n",
       "      <td>0.727273</td>\n",
       "    </tr>\n",
       "    <tr>\n",
       "      <td>120</td>\n",
       "      <td>0.652100</td>\n",
       "      <td>0.655523</td>\n",
       "      <td>0.628205</td>\n",
       "      <td>0.614035</td>\n",
       "      <td>0.833333</td>\n",
       "      <td>0.707071</td>\n",
       "    </tr>\n",
       "    <tr>\n",
       "      <td>130</td>\n",
       "      <td>0.640900</td>\n",
       "      <td>0.641178</td>\n",
       "      <td>0.621795</td>\n",
       "      <td>0.619048</td>\n",
       "      <td>0.773810</td>\n",
       "      <td>0.687831</td>\n",
       "    </tr>\n",
       "    <tr>\n",
       "      <td>140</td>\n",
       "      <td>0.613400</td>\n",
       "      <td>0.631912</td>\n",
       "      <td>0.660256</td>\n",
       "      <td>0.642202</td>\n",
       "      <td>0.833333</td>\n",
       "      <td>0.725389</td>\n",
       "    </tr>\n",
       "    <tr>\n",
       "      <td>150</td>\n",
       "      <td>0.644600</td>\n",
       "      <td>0.619019</td>\n",
       "      <td>0.647436</td>\n",
       "      <td>0.635514</td>\n",
       "      <td>0.809524</td>\n",
       "      <td>0.712042</td>\n",
       "    </tr>\n",
       "    <tr>\n",
       "      <td>160</td>\n",
       "      <td>0.595500</td>\n",
       "      <td>0.619008</td>\n",
       "      <td>0.698718</td>\n",
       "      <td>0.734177</td>\n",
       "      <td>0.690476</td>\n",
       "      <td>0.711656</td>\n",
       "    </tr>\n",
       "    <tr>\n",
       "      <td>170</td>\n",
       "      <td>0.538400</td>\n",
       "      <td>0.611243</td>\n",
       "      <td>0.660256</td>\n",
       "      <td>0.650485</td>\n",
       "      <td>0.797619</td>\n",
       "      <td>0.716578</td>\n",
       "    </tr>\n",
       "    <tr>\n",
       "      <td>180</td>\n",
       "      <td>0.526100</td>\n",
       "      <td>0.617373</td>\n",
       "      <td>0.666667</td>\n",
       "      <td>0.666667</td>\n",
       "      <td>0.761905</td>\n",
       "      <td>0.711111</td>\n",
       "    </tr>\n",
       "    <tr>\n",
       "      <td>190</td>\n",
       "      <td>0.549400</td>\n",
       "      <td>0.600090</td>\n",
       "      <td>0.698718</td>\n",
       "      <td>0.746667</td>\n",
       "      <td>0.666667</td>\n",
       "      <td>0.704403</td>\n",
       "    </tr>\n",
       "    <tr>\n",
       "      <td>200</td>\n",
       "      <td>0.558200</td>\n",
       "      <td>0.639842</td>\n",
       "      <td>0.634615</td>\n",
       "      <td>0.800000</td>\n",
       "      <td>0.428571</td>\n",
       "      <td>0.558140</td>\n",
       "    </tr>\n",
       "    <tr>\n",
       "      <td>210</td>\n",
       "      <td>0.569100</td>\n",
       "      <td>0.591677</td>\n",
       "      <td>0.666667</td>\n",
       "      <td>0.666667</td>\n",
       "      <td>0.761905</td>\n",
       "      <td>0.711111</td>\n",
       "    </tr>\n",
       "    <tr>\n",
       "      <td>220</td>\n",
       "      <td>0.555000</td>\n",
       "      <td>0.613493</td>\n",
       "      <td>0.666667</td>\n",
       "      <td>0.785714</td>\n",
       "      <td>0.523810</td>\n",
       "      <td>0.628571</td>\n",
       "    </tr>\n",
       "    <tr>\n",
       "      <td>230</td>\n",
       "      <td>0.573100</td>\n",
       "      <td>0.594379</td>\n",
       "      <td>0.685897</td>\n",
       "      <td>0.673267</td>\n",
       "      <td>0.809524</td>\n",
       "      <td>0.735135</td>\n",
       "    </tr>\n",
       "    <tr>\n",
       "      <td>240</td>\n",
       "      <td>0.591600</td>\n",
       "      <td>0.606308</td>\n",
       "      <td>0.679487</td>\n",
       "      <td>0.774194</td>\n",
       "      <td>0.571429</td>\n",
       "      <td>0.657534</td>\n",
       "    </tr>\n",
       "    <tr>\n",
       "      <td>250</td>\n",
       "      <td>0.542700</td>\n",
       "      <td>0.578599</td>\n",
       "      <td>0.705128</td>\n",
       "      <td>0.697917</td>\n",
       "      <td>0.797619</td>\n",
       "      <td>0.744444</td>\n",
       "    </tr>\n",
       "    <tr>\n",
       "      <td>260</td>\n",
       "      <td>0.601000</td>\n",
       "      <td>0.593383</td>\n",
       "      <td>0.705128</td>\n",
       "      <td>0.839286</td>\n",
       "      <td>0.559524</td>\n",
       "      <td>0.671429</td>\n",
       "    </tr>\n",
       "  </tbody>\n",
       "</table><p>"
      ],
      "text/plain": [
       "<IPython.core.display.HTML object>"
      ]
     },
     "metadata": {},
     "output_type": "display_data"
    },
    {
     "data": {
      "text/plain": [
       "TrainOutput(global_step=264, training_loss=0.6263205919301871, metrics={'train_runtime': 213.6517, 'train_samples_per_second': 19.714, 'train_steps_per_second': 1.236, 'total_flos': 34923597576192.0, 'train_loss': 0.6263205919301871, 'epoch': 3.0})"
      ]
     },
     "execution_count": 85,
     "metadata": {},
     "output_type": "execute_result"
    }
   ],
   "source": [
    "trainer = Trainer(\n",
    "    model=model,\n",
    "    args=training_args,\n",
    "    train_dataset=train_dataset,\n",
    "    eval_dataset=val_dataset,\n",
    "    compute_metrics=compute_metrics\n",
    ")\n",
    "\n",
    "trainer.train()"
   ]
  },
  {
   "cell_type": "markdown",
   "id": "7314838e-5d10-44f5-bbf7-d61bee782f5f",
   "metadata": {},
   "source": [
    "### Оценка модели"
   ]
  },
  {
   "cell_type": "code",
   "execution_count": 86,
   "id": "dc49b193-4d15-491c-af23-c4c46d677357",
   "metadata": {},
   "outputs": [
    {
     "data": {
      "text/html": [
       "\n",
       "    <div>\n",
       "      \n",
       "      <progress value='3' max='3' style='width:300px; height:20px; vertical-align: middle;'></progress>\n",
       "      [3/3 00:01]\n",
       "    </div>\n",
       "    "
      ],
      "text/plain": [
       "<IPython.core.display.HTML object>"
      ]
     },
     "metadata": {},
     "output_type": "display_data"
    },
    {
     "data": {
      "text/plain": [
       "{'eval_loss': 0.5766525268554688,\n",
       " 'eval_accuracy': 0.7115384615384616,\n",
       " 'eval_precision': 0.8421052631578947,\n",
       " 'eval_recall': 0.5714285714285714,\n",
       " 'eval_f1': 0.6808510638297872,\n",
       " 'eval_runtime': 2.2885,\n",
       " 'eval_samples_per_second': 68.168,\n",
       " 'eval_steps_per_second': 1.311,\n",
       " 'epoch': 3.0}"
      ]
     },
     "execution_count": 86,
     "metadata": {},
     "output_type": "execute_result"
    }
   ],
   "source": [
    "metrics = trainer.evaluate()\n",
    "metrics"
   ]
  },
  {
   "cell_type": "markdown",
   "id": "d6c43718-4637-4c5a-825a-2a2b8ad2d5ec",
   "metadata": {},
   "source": [
    "## Общий вывод"
   ]
  },
  {
   "cell_type": "markdown",
   "id": "8c2aa30e-3a53-4e7c-9cf1-cc28e46a61f6",
   "metadata": {},
   "source": [
    "В ходе работы  было использовано два подхода : использование модели 'all-MiniLM-L6-v2' \"из коробки\" и с дообучением. Оба варианта так или иначе выполняют свою работу, однако только второй вариант можно как-то оценить - **(Метрики Accuracy:0.71,Precision:0.84 ,Recall:0.57, F1:0.68)**.\n",
    "Качество модели очевидно можно улучшить путём увеличения данных для обучения. В перспективе работы есть создание демо приложения по существующей модели."
   ]
  },
  {
   "cell_type": "code",
   "execution_count": null,
   "id": "08e05a7d-63d8-482e-b893-1ffe9b2bf740",
   "metadata": {},
   "outputs": [],
   "source": []
  }
 ],
 "metadata": {
  "kernelspec": {
   "display_name": "Python 3 (ipykernel)",
   "language": "python",
   "name": "python3"
  },
  "language_info": {
   "codemirror_mode": {
    "name": "ipython",
    "version": 3
   },
   "file_extension": ".py",
   "mimetype": "text/x-python",
   "name": "python",
   "nbconvert_exporter": "python",
   "pygments_lexer": "ipython3",
   "version": "3.8.19"
  }
 },
 "nbformat": 4,
 "nbformat_minor": 5
}
